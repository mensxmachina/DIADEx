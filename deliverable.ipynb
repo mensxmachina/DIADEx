{
 "cells": [
  {
   "cell_type": "markdown",
   "metadata": {},
   "source": [
    "Import the dependencies"
   ]
  },
  {
   "cell_type": "code",
   "execution_count": 1,
   "metadata": {},
   "outputs": [
    {
     "name": "stdout",
     "output_type": "stream",
     "text": [
      "Defaulting to user installation because normal site-packages is not writeable\n",
      "Requirement already satisfied: auto_sklearn==0.15.0 in /home/george/.local/lib/python3.9/site-packages (from -r requirements.txt (line 1)) (0.15.0)\n",
      "Requirement already satisfied: ConfigSpace==0.4.21 in /home/george/.local/lib/python3.9/site-packages (from -r requirements.txt (line 2)) (0.4.21)\n",
      "Requirement already satisfied: numpy==1.22.4 in /home/george/.local/lib/python3.9/site-packages (from -r requirements.txt (line 5)) (1.22.4)\n",
      "Requirement already satisfied: pandas==2.1.4 in /home/george/.local/lib/python3.9/site-packages (from -r requirements.txt (line 6)) (2.1.4)\n",
      "Requirement already satisfied: scikit_learn==0.24.2 in /home/george/.local/lib/python3.9/site-packages (from -r requirements.txt (line 7)) (0.24.2)\n",
      "Requirement already satisfied: scipy==1.11.4 in /home/george/.local/lib/python3.9/site-packages (from -r requirements.txt (line 8)) (1.11.4)\n",
      "Requirement already satisfied: torch==2.1.0 in /home/george/.local/lib/python3.9/site-packages (from -r requirements.txt (line 9)) (2.1.0)\n",
      "Requirement already satisfied: matplotlib in /home/george/.local/lib/python3.9/site-packages (from -r requirements.txt (line 10)) (3.8.2)\n",
      "Requirement already satisfied: mmh3==4.0.1 in /home/george/.local/lib/python3.9/site-packages (from -r requirements.txt (line 11)) (4.0.1)\n",
      "Requirement already satisfied: tqdm==4.64.0 in /home/george/.local/lib/python3.9/site-packages (from -r requirements.txt (line 12)) (4.64.0)\n",
      "Requirement already satisfied: smac<1.3,>=1.2 in /home/george/.local/lib/python3.9/site-packages (from auto_sklearn==0.15.0->-r requirements.txt (line 1)) (1.2)\n",
      "Requirement already satisfied: distro in /usr/lib/python3/dist-packages (from auto_sklearn==0.15.0->-r requirements.txt (line 1)) (1.7.0)\n",
      "Requirement already satisfied: pyrfr<0.9,>=0.8.1 in /home/george/.local/lib/python3.9/site-packages (from auto_sklearn==0.15.0->-r requirements.txt (line 1)) (0.8.3)\n",
      "Requirement already satisfied: dask>=2021.12 in /home/george/.local/lib/python3.9/site-packages (from auto_sklearn==0.15.0->-r requirements.txt (line 1)) (2023.11.0)\n",
      "Requirement already satisfied: typing-extensions in /home/george/.local/lib/python3.9/site-packages (from auto_sklearn==0.15.0->-r requirements.txt (line 1)) (4.8.0)\n",
      "Requirement already satisfied: joblib in /home/george/.local/lib/python3.9/site-packages (from auto_sklearn==0.15.0->-r requirements.txt (line 1)) (1.3.2)\n",
      "Requirement already satisfied: setuptools in /usr/lib/python3/dist-packages (from auto_sklearn==0.15.0->-r requirements.txt (line 1)) (59.6.0)\n",
      "Requirement already satisfied: pynisher<0.7,>=0.6.3 in /home/george/.local/lib/python3.9/site-packages (from auto_sklearn==0.15.0->-r requirements.txt (line 1)) (0.6.4)\n",
      "Requirement already satisfied: liac-arff in /home/george/.local/lib/python3.9/site-packages (from auto_sklearn==0.15.0->-r requirements.txt (line 1)) (2.5.0)\n",
      "Requirement already satisfied: distributed>=2012.12 in /home/george/.local/lib/python3.9/site-packages (from auto_sklearn==0.15.0->-r requirements.txt (line 1)) (2023.11.0)\n",
      "Requirement already satisfied: pyyaml in /usr/lib/python3/dist-packages (from auto_sklearn==0.15.0->-r requirements.txt (line 1)) (5.4.1)\n",
      "Requirement already satisfied: threadpoolctl in /home/george/.local/lib/python3.9/site-packages (from auto_sklearn==0.15.0->-r requirements.txt (line 1)) (3.2.0)\n",
      "Requirement already satisfied: pyparsing in /usr/lib/python3/dist-packages (from ConfigSpace==0.4.21->-r requirements.txt (line 2)) (2.4.7)\n",
      "Requirement already satisfied: cython in /home/george/.local/lib/python3.9/site-packages (from ConfigSpace==0.4.21->-r requirements.txt (line 2)) (3.0.5)\n",
      "Requirement already satisfied: python-dateutil>=2.8.2 in /home/george/.local/lib/python3.9/site-packages (from pandas==2.1.4->-r requirements.txt (line 6)) (2.8.2)\n",
      "Requirement already satisfied: tzdata>=2022.1 in /home/george/.local/lib/python3.9/site-packages (from pandas==2.1.4->-r requirements.txt (line 6)) (2023.3)\n",
      "Requirement already satisfied: pytz>=2020.1 in /usr/lib/python3/dist-packages (from pandas==2.1.4->-r requirements.txt (line 6)) (2022.1)\n",
      "Requirement already satisfied: networkx in /home/george/.local/lib/python3.9/site-packages (from torch==2.1.0->-r requirements.txt (line 9)) (3.2.1)\n",
      "Requirement already satisfied: nvidia-cuda-cupti-cu12==12.1.105 in /home/george/.local/lib/python3.9/site-packages (from torch==2.1.0->-r requirements.txt (line 9)) (12.1.105)\n",
      "Requirement already satisfied: filelock in /home/george/.local/lib/python3.9/site-packages (from torch==2.1.0->-r requirements.txt (line 9)) (3.13.1)\n",
      "Requirement already satisfied: nvidia-cusolver-cu12==11.4.5.107 in /home/george/.local/lib/python3.9/site-packages (from torch==2.1.0->-r requirements.txt (line 9)) (11.4.5.107)\n",
      "Requirement already satisfied: nvidia-curand-cu12==10.3.2.106 in /home/george/.local/lib/python3.9/site-packages (from torch==2.1.0->-r requirements.txt (line 9)) (10.3.2.106)\n",
      "Requirement already satisfied: nvidia-nvtx-cu12==12.1.105 in /home/george/.local/lib/python3.9/site-packages (from torch==2.1.0->-r requirements.txt (line 9)) (12.1.105)\n",
      "Requirement already satisfied: nvidia-cufft-cu12==11.0.2.54 in /home/george/.local/lib/python3.9/site-packages (from torch==2.1.0->-r requirements.txt (line 9)) (11.0.2.54)\n",
      "Requirement already satisfied: jinja2 in /home/george/.local/lib/python3.9/site-packages (from torch==2.1.0->-r requirements.txt (line 9)) (3.1.2)\n",
      "Requirement already satisfied: nvidia-cusparse-cu12==12.1.0.106 in /home/george/.local/lib/python3.9/site-packages (from torch==2.1.0->-r requirements.txt (line 9)) (12.1.0.106)\n",
      "Requirement already satisfied: nvidia-cudnn-cu12==8.9.2.26 in /home/george/.local/lib/python3.9/site-packages (from torch==2.1.0->-r requirements.txt (line 9)) (8.9.2.26)\n",
      "Requirement already satisfied: nvidia-cublas-cu12==12.1.3.1 in /home/george/.local/lib/python3.9/site-packages (from torch==2.1.0->-r requirements.txt (line 9)) (12.1.3.1)\n",
      "Requirement already satisfied: triton==2.1.0 in /home/george/.local/lib/python3.9/site-packages (from torch==2.1.0->-r requirements.txt (line 9)) (2.1.0)\n",
      "Requirement already satisfied: sympy in /home/george/.local/lib/python3.9/site-packages (from torch==2.1.0->-r requirements.txt (line 9)) (1.12)\n",
      "Requirement already satisfied: fsspec in /home/george/.local/lib/python3.9/site-packages (from torch==2.1.0->-r requirements.txt (line 9)) (2023.10.0)\n",
      "Requirement already satisfied: nvidia-cuda-nvrtc-cu12==12.1.105 in /home/george/.local/lib/python3.9/site-packages (from torch==2.1.0->-r requirements.txt (line 9)) (12.1.105)\n",
      "Requirement already satisfied: nvidia-cuda-runtime-cu12==12.1.105 in /home/george/.local/lib/python3.9/site-packages (from torch==2.1.0->-r requirements.txt (line 9)) (12.1.105)\n",
      "Requirement already satisfied: nvidia-nccl-cu12==2.18.1 in /home/george/.local/lib/python3.9/site-packages (from torch==2.1.0->-r requirements.txt (line 9)) (2.18.1)\n",
      "Requirement already satisfied: nvidia-nvjitlink-cu12 in /home/george/.local/lib/python3.9/site-packages (from nvidia-cusolver-cu12==11.4.5.107->torch==2.1.0->-r requirements.txt (line 9)) (12.3.52)\n",
      "Requirement already satisfied: importlib-resources>=3.2.0 in /home/george/.local/lib/python3.9/site-packages (from matplotlib->-r requirements.txt (line 10)) (6.1.1)\n",
      "Requirement already satisfied: pillow>=8 in /usr/lib/python3/dist-packages (from matplotlib->-r requirements.txt (line 10)) (9.0.1)\n",
      "Requirement already satisfied: contourpy>=1.0.1 in /home/george/.local/lib/python3.9/site-packages (from matplotlib->-r requirements.txt (line 10)) (1.2.0)\n",
      "Requirement already satisfied: cycler>=0.10 in /home/george/.local/lib/python3.9/site-packages (from matplotlib->-r requirements.txt (line 10)) (0.12.1)\n",
      "Requirement already satisfied: fonttools>=4.22.0 in /home/george/.local/lib/python3.9/site-packages (from matplotlib->-r requirements.txt (line 10)) (4.47.0)\n",
      "Requirement already satisfied: kiwisolver>=1.3.1 in /home/george/.local/lib/python3.9/site-packages (from matplotlib->-r requirements.txt (line 10)) (1.4.5)\n",
      "Requirement already satisfied: packaging>=20.0 in /home/george/.local/lib/python3.9/site-packages (from matplotlib->-r requirements.txt (line 10)) (23.2)\n",
      "Requirement already satisfied: importlib-metadata>=4.13.0 in /home/george/.local/lib/python3.9/site-packages (from dask>=2021.12->auto_sklearn==0.15.0->-r requirements.txt (line 1)) (6.8.0)\n",
      "Requirement already satisfied: click>=8.1 in /home/george/.local/lib/python3.9/site-packages (from dask>=2021.12->auto_sklearn==0.15.0->-r requirements.txt (line 1)) (8.1.7)\n",
      "Requirement already satisfied: partd>=1.2.0 in /home/george/.local/lib/python3.9/site-packages (from dask>=2021.12->auto_sklearn==0.15.0->-r requirements.txt (line 1)) (1.4.1)\n",
      "Requirement already satisfied: toolz>=0.10.0 in /home/george/.local/lib/python3.9/site-packages (from dask>=2021.12->auto_sklearn==0.15.0->-r requirements.txt (line 1)) (0.12.0)\n",
      "Requirement already satisfied: cloudpickle>=1.5.0 in /home/george/.local/lib/python3.9/site-packages (from dask>=2021.12->auto_sklearn==0.15.0->-r requirements.txt (line 1)) (3.0.0)\n",
      "Requirement already satisfied: psutil>=5.7.2 in /home/george/.local/lib/python3.9/site-packages (from distributed>=2012.12->auto_sklearn==0.15.0->-r requirements.txt (line 1)) (5.9.6)\n",
      "Requirement already satisfied: sortedcontainers>=2.0.5 in /home/george/.local/lib/python3.9/site-packages (from distributed>=2012.12->auto_sklearn==0.15.0->-r requirements.txt (line 1)) (2.4.0)\n",
      "Requirement already satisfied: tornado>=6.0.4 in /home/george/.local/lib/python3.9/site-packages (from distributed>=2012.12->auto_sklearn==0.15.0->-r requirements.txt (line 1)) (6.3.3)\n",
      "Requirement already satisfied: msgpack>=1.0.0 in /home/george/.local/lib/python3.9/site-packages (from distributed>=2012.12->auto_sklearn==0.15.0->-r requirements.txt (line 1)) (1.0.7)\n",
      "Requirement already satisfied: urllib3>=1.24.3 in /usr/lib/python3/dist-packages (from distributed>=2012.12->auto_sklearn==0.15.0->-r requirements.txt (line 1)) (1.26.5)\n",
      "Requirement already satisfied: tblib>=1.6.0 in /home/george/.local/lib/python3.9/site-packages (from distributed>=2012.12->auto_sklearn==0.15.0->-r requirements.txt (line 1)) (3.0.0)\n",
      "Requirement already satisfied: locket>=1.0.0 in /home/george/.local/lib/python3.9/site-packages (from distributed>=2012.12->auto_sklearn==0.15.0->-r requirements.txt (line 1)) (1.0.0)\n",
      "Requirement already satisfied: zict>=3.0.0 in /home/george/.local/lib/python3.9/site-packages (from distributed>=2012.12->auto_sklearn==0.15.0->-r requirements.txt (line 1)) (3.0.0)\n",
      "Requirement already satisfied: zipp>=3.1.0 in /home/george/.local/lib/python3.9/site-packages (from importlib-resources>=3.2.0->matplotlib->-r requirements.txt (line 10)) (3.17.0)\n",
      "Requirement already satisfied: MarkupSafe>=2.0 in /home/george/.local/lib/python3.9/site-packages (from jinja2->torch==2.1.0->-r requirements.txt (line 9)) (2.1.3)\n",
      "Requirement already satisfied: six>=1.5 in /usr/lib/python3/dist-packages (from python-dateutil>=2.8.2->pandas==2.1.4->-r requirements.txt (line 6)) (1.16.0)\n",
      "Requirement already satisfied: emcee>=3.0.0 in /home/george/.local/lib/python3.9/site-packages (from smac<1.3,>=1.2->auto_sklearn==0.15.0->-r requirements.txt (line 1)) (3.1.4)\n",
      "Requirement already satisfied: mpmath>=0.19 in /home/george/.local/lib/python3.9/site-packages (from sympy->torch==2.1.0->-r requirements.txt (line 9)) (1.3.0)\n"
     ]
    }
   ],
   "source": [
    "!pip install -r requirements.txt"
   ]
  },
  {
   "cell_type": "code",
   "execution_count": 5,
   "metadata": {},
   "outputs": [],
   "source": [
    "import pandas as pd\n",
    "import numpy as np\n",
    "import autosklearn.classification\n",
    "from imputation.automl import AutoML"
   ]
  },
  {
   "cell_type": "markdown",
   "metadata": {},
   "source": [
    "Import the missing dataset"
   ]
  },
  {
   "cell_type": "code",
   "execution_count": 3,
   "metadata": {},
   "outputs": [],
   "source": [
    "# Import diabetes\n",
    "diabetes_data = pd.read_csv('imputation/missing_data/diabetes.csv')\n",
    "\n",
    "# Find the diabetes columns\n",
    "diabetes_cols = [i for i in list(diabetes_data.columns) if i != 'is_anomaly']"
   ]
  },
  {
   "cell_type": "markdown",
   "metadata": {},
   "source": [
    "Specify the train budget in minutes"
   ]
  },
  {
   "cell_type": "code",
   "execution_count": 6,
   "metadata": {},
   "outputs": [],
   "source": [
    "train_budget_minutes = 60 # Runs for 1 hour"
   ]
  },
  {
   "cell_type": "markdown",
   "metadata": {},
   "source": [
    "Run imputation with AutoML on the dataset."
   ]
  },
  {
   "cell_type": "code",
   "execution_count": 7,
   "metadata": {},
   "outputs": [
    {
     "name": "stderr",
     "output_type": "stream",
     "text": [
      "No runs were available to build an ensemble from\n",
      "No runs were available to build an ensemble from\n",
      "No runs were available to build an ensemble from\n",
      "No runs were available to build an ensemble from\n",
      "No runs were available to build an ensemble from\n"
     ]
    },
    {
     "name": "stdout",
     "output_type": "stream",
     "text": [
      "auto-sklearn results:\n",
      "  Dataset name: 7f11603e-a4ea-11ee-a00b-8f540653e75a\n",
      "  Metric: auc\n",
      "  Number of target algorithm runs: 5\n",
      "  Number of successful target algorithm runs: 0\n",
      "  Number of crashed target algorithm runs: 0\n",
      "  Number of target algorithms that exceeded the time limit: 5\n",
      "  Number of target algorithms that exceeded the memory limit: 0\n",
      "\n",
      "Lowest loss: 1.0\n",
      "Best configuration: {'balancing:strategy': 'none', 'classifier:__choice__': 'random_forest', 'data_preprocessor:__choice__': 'ScalingPreprocessing', 'feature_preprocessor:__choice__': 'MeanModePreprocessor', 'classifier:random_forest:bootstrap': 'True', 'classifier:random_forest:criterion': 'gini', 'classifier:random_forest:max_depth': 'None', 'classifier:random_forest:max_features': 0.5, 'classifier:random_forest:max_leaf_nodes': 'None', 'classifier:random_forest:min_impurity_decrease': 0.0, 'classifier:random_forest:min_samples_leaf': 1, 'classifier:random_forest:min_samples_split': 2, 'classifier:random_forest:min_weight_fraction_leaf': 0.0}\n",
      "MeanModePreprocessor\n"
     ]
    }
   ],
   "source": [
    "imputed_diabetes = AutoML(diabetes_data.loc[:,diabetes_cols].to_numpy(), diabetes_data.loc[:,'is_anomaly'].to_numpy(), train_budget_minutes)"
   ]
  },
  {
   "cell_type": "markdown",
   "metadata": {},
   "source": [
    "Save the imputed dataset in the specified folder"
   ]
  },
  {
   "cell_type": "code",
   "execution_count": null,
   "metadata": {},
   "outputs": [],
   "source": [
    "#imputed_diabetes.to_csv('imputed_data/diabetes.csv',index=None)"
   ]
  },
  {
   "cell_type": "code",
   "execution_count": 2,
   "metadata": {},
   "outputs": [
    {
     "name": "stdout",
     "output_type": "stream",
     "text": [
      "trexo\n",
      "XSTREAM/datasets/breast.csv\n"
     ]
    },
    {
     "name": "stderr",
     "output_type": "stream",
     "text": [
      "Fitting...: 100%|██████████| 100/100 [00:06<00:00, 14.64it/s]\n",
      "Scoring...: 100%|██████████| 100/100 [00:05<00:00, 17.73it/s]\n",
      "/home/george/Desktop/DIADEx/XSTREAM/run_xstream.py:33: FutureWarning: Setting an item of incompatible dtype is deprecated and will raise in a future error of pandas. Value '[-7.49883219 -4.24538563 -4.65928124 -7.50520649 -6.37446088 -4.70430717\n",
      " -4.91028679 -5.44419126 -7.41239208 -3.76174074 -7.52650155 -5.36177965\n",
      " -4.34292091 -7.2501406  -7.21199013 -7.55187725 -7.48059118 -4.98071589\n",
      " -7.44433419 -5.8925461  -4.67645679 -5.2505076  -4.8014361  -5.9022662\n",
      " -6.45039177 -5.17484942 -7.31170963 -7.57677339 -5.23614194 -7.52700483\n",
      " -5.5680853  -5.92647827 -7.25414746 -7.37155993 -7.50520649 -7.17520945\n",
      " -7.57677339 -7.36778851 -5.68904628 -4.66542102 -7.57677339 -7.30765646\n",
      " -7.49372981 -7.23586574 -4.52036222 -7.54621479 -7.50520649 -7.34100127\n",
      " -5.73178713 -4.47225816 -3.76910536 -7.26911212 -7.46841712 -5.56681048\n",
      " -5.93172117 -7.34515164 -7.49510814 -7.17069391 -7.05525258 -5.39501663\n",
      " -7.38955766 -7.51688077 -6.68330715 -7.36815878 -5.68980273 -7.4992673\n",
      " -7.11776855 -7.2529884  -6.09000404 -7.34506805 -7.49883219 -7.37098763\n",
      " -7.19522881 -7.47591734 -7.47587982 -7.49510814 -7.56281537 -4.3705069\n",
      " -7.54516553 -7.53263565 -5.26377217 -6.22456872 -7.43197598 -7.17197995\n",
      " -7.54656793 -7.39759669 -6.89548961 -7.45421128 -7.49510814 -7.55116225\n",
      " -5.72203491 -7.47274672 -6.27761894 -7.36778851 -7.55187725 -7.49510814\n",
      " -6.44773091 -7.48467093 -5.15503668 -7.45324407 -7.17862118 -7.43025324\n",
      " -5.79860509 -7.56166236 -7.53899179 -5.74981145 -5.07324573 -7.37098763\n",
      " -5.52912841 -5.83439572 -7.30580691 -5.13500338 -7.12027691 -7.36258758\n",
      " -7.53263565 -4.74327303 -7.50658384 -4.35651769 -7.52973479 -6.74929559\n",
      " -4.39552923 -7.37098763 -7.19648456 -7.45221548 -7.10540559 -7.46841712\n",
      " -7.48225412 -5.46287358]' has dtype incompatible with int64, please explicitly cast to a compatible dtype first.\n",
      "  data.loc[start_index+window_size:end_index+window_size-1, 'scores'] = scores\n",
      "Fitting...: 100%|██████████| 100/100 [00:06<00:00, 16.03it/s]\n",
      "Scoring...: 100%|██████████| 100/100 [00:05<00:00, 17.92it/s]\n",
      "Fitting...: 100%|██████████| 100/100 [00:06<00:00, 14.36it/s]\n",
      "Scoring...: 100%|██████████| 100/100 [00:04<00:00, 20.91it/s]\n"
     ]
    }
   ],
   "source": [
    "from XSTREAM.run_xstream import run_xstream_on_multiple_datasets\n",
    "\n",
    "run_xstream_on_multiple_datasets()"
   ]
  },
  {
   "cell_type": "code",
   "execution_count": null,
   "metadata": {},
   "outputs": [],
   "source": []
  }
 ],
 "metadata": {
  "kernelspec": {
   "display_name": "Python 3",
   "language": "python",
   "name": "python3"
  },
  "language_info": {
   "codemirror_mode": {
    "name": "ipython",
    "version": 3
   },
   "file_extension": ".py",
   "mimetype": "text/x-python",
   "name": "python",
   "nbconvert_exporter": "python",
   "pygments_lexer": "ipython3",
   "version": "3.9.18"
  }
 },
 "nbformat": 4,
 "nbformat_minor": 2
}
